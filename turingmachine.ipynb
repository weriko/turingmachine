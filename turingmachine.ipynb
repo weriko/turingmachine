{
 "cells": [
  {
   "cell_type": "code",
   "execution_count": 1,
   "id": "b8122cfe",
   "metadata": {},
   "outputs": [],
   "source": [
    "from dataclasses import dataclass\n",
    "\n",
    "\n",
    "@dataclass\n",
    "class Tape:\n",
    "    \n",
    "    tape: dict[int, str]\n",
    "    blank : str = \" \"\n",
    "    current : int = None\n",
    "    \n",
    "    def __getitem__(self,index):\n",
    "        return self.tape[index] if index in self.tape else self.blank\n",
    "    def __setitem__(self, index, s):\n",
    "        self.tape[index] = s\n",
    "    def idx_range(self):\n",
    "        return min(self.tape.keys()), max(self.tape.keys())+1\n",
    "    \n",
    "    def __str__(self):\n",
    "        t = \"\"\n",
    "        \n",
    "        for i in range(*self.idx_range()):\n",
    "            t += self.tape[i]\n",
    "        if self.current is not None:\n",
    "            try:\n",
    "                t = f\"{t[:self.current]}[{t[self.current]}]{t[self.current+1:]}\"\n",
    "            except:\n",
    "                t = f\"{t}...[]\"\n",
    "        return t\n",
    "            \n",
    "class TuringMachine:\n",
    "    def __init__(self, tape = None, blank=\" \", initial_state = \"s\", \n",
    "                 final_states = None, transition_function = None,\n",
    "                 starting_pos = None, max_steps = 300):\n",
    "        if tape is None:\n",
    "            tape = Tape(dict())\n",
    "        elif type(tape) == str:\n",
    "            tape = Tape(dict(enumerate(list(tape))))\n",
    "        if final_states is None:\n",
    "            final_states = set()\n",
    "        if transition_function is None:\n",
    "            transition_function = dict()\n",
    "        self.max_steps = max_steps\n",
    "        self.processed_steps = 0\n",
    "        self.initial_state = initial_state \n",
    "        self.current_state = initial_state\n",
    "        self.current_position = starting_pos or 0\n",
    "        self.tape = tape\n",
    "        self.final_states = final_states\n",
    "        self.transition_function = transition_function\n",
    "        self.mov_dict = {\"R\":1,\n",
    "                         \"L\":-1,\n",
    "                         \"N\":0}\n",
    "        \n",
    "    def __next__(self):\n",
    "        current = self.tape[self.current_position]\n",
    "        current_conf = (self.current_state, current)\n",
    "        if current_conf in self.transition_function:\n",
    "            t = self.transition_function[current_conf] # [state, char, mov]\n",
    "            self.tape[self.current_position] = t[1]\n",
    "            self.current_position += self.mov_dict[t[2]]\n",
    "            self.current_state = t[0]\n",
    "        self.processed_steps+=1\n",
    "            \n",
    "    def process(self, string):\n",
    "        self.processed_steps = 0\n",
    "        self.tape = Tape(dict(enumerate(list(string))))\n",
    "        while (self.current_state not in self.final_states) and self.processed_steps<self.max_steps:\n",
    "            next(self)\n",
    "            self.processed_steps+=1\n",
    "        tape = self.tape\n",
    "        self.reset()\n",
    "        return str(tape)\n",
    "    \n",
    "    def debug(self, string, step=1, log_func = lambda *x : print(*x)):\n",
    "        self.processed_steps = 0\n",
    "        self.tape = Tape(dict(enumerate(list(string))))\n",
    "        flag = True\n",
    "        \n",
    "        while flag:\n",
    "            self.tape.current = self.current_position\n",
    "            log_func(self.current_state, self.tape)\n",
    "            for i in range(step):\n",
    "                if (self.current_state in self.final_states) or self.processed_steps>self.max_steps:\n",
    "                    flag = False\n",
    "                    break\n",
    "                self.processed_steps+=1\n",
    "                next(self)\n",
    "            \n",
    "        tape = self.tape\n",
    "        self.reset()\n",
    "        return str(tape)\n",
    "    \n",
    "    def reset(self):\n",
    "        self.processed_steps = 0\n",
    "        self.current = None\n",
    "        self.current_position = 0\n",
    "        self.tape = None\n",
    "        self.current_state = self.initial_state\n",
    "\n",
    "def to_unary(n):\n",
    "    return \"1\"*n\n",
    "def from_unary(n):\n",
    "    return n.count(\"1\")\n",
    "def from_unary_div(n, div):\n",
    "    q,r = n.replace(\"[\",\"\").replace(\"]\",\"\").split(\"=\")\n",
    "    return {\"div\":from_unary(q)/div+from_unary(r),\n",
    "            \"int_div\":from_unary(r),\n",
    "            \"module\":from_unary(q)}"
   ]
  },
  {
   "cell_type": "code",
   "execution_count": 2,
   "id": "adad18d1",
   "metadata": {},
   "outputs": [],
   "source": [
    "initial_state = \"s\"\n",
    "transition_function = {(\"s\",\"0\"):(\"s\", \"1\", \"R\"),\n",
    "                       (\"s\",\"1\"):(\"s\", \"0\", \"R\"),\n",
    "                       (\"s\",\" \"):(\"f\",\" \", \"N\"),\n",
    "                       }\n",
    "final_states = {\"f\"}\n",
    "\n",
    "t = TuringMachine(\n",
    "                  initial_state = \"s\",\n",
    "                  final_states = final_states,\n",
    "                  transition_function=transition_function)"
   ]
  },
  {
   "cell_type": "code",
   "execution_count": 3,
   "id": "0f8a408f",
   "metadata": {},
   "outputs": [
    {
     "data": {
      "text/plain": [
       "'101100110 '"
      ]
     },
     "execution_count": 3,
     "metadata": {},
     "output_type": "execute_result"
    }
   ],
   "source": [
    "t.process(\"010011001 \")"
   ]
  },
  {
   "cell_type": "code",
   "execution_count": 31,
   "id": "d3696c9c",
   "metadata": {},
   "outputs": [],
   "source": [
    "#t.debug(\"010011001 \")"
   ]
  },
  {
   "cell_type": "code",
   "execution_count": 5,
   "id": "62e3fc58",
   "metadata": {},
   "outputs": [],
   "source": [
    "\n",
    "transition_function = {(\"0\",\"0\"):(\"0\", \"0\", \"R\"),\n",
    "                       (\"0\",\"1\"):(\"0\", \"1\", \"R\"),\n",
    "                       (\"0\",\" \"):(\"1\",\" \", \"R\"),\n",
    "                       \n",
    "                       (\"1\",\"0\"):(\"1\", \"0\", \"R\"),\n",
    "                       (\"1\",\"1\"):(\"1\", \"1\", \"R\"),\n",
    "                       (\"1\",\" \"):(\"2\",\" \", \"L\"),\n",
    "                       \n",
    "                       (\"2\",\"0\"):(\"2\", \"1\", \"L\"),\n",
    "                       (\"2\",\"1\"):(\"3\", \"0\", \"L\"),\n",
    "                       (\"2\",\" \"):(\"5\",\" \", \"R\"),\n",
    "                       \n",
    "                       (\"3\",\"0\"):(\"3\", \"0\", \"L\"),\n",
    "                       (\"3\",\"1\"):(\"3\", \"1\", \"L\"),\n",
    "                       (\"3\",\" \"):(\"4\",\" \", \"L\"),\n",
    "                       \n",
    "                       (\"4\",\"0\"):(\"0\", \"1\", \"R\"),\n",
    "                       (\"4\",\"1\"):(\"4\", \"0\", \"L\"),\n",
    "                       (\"4\",\" \"):(\"0\",\"1\", \"R\"),\n",
    "                       \n",
    "                       (\"5\",\"1\"):(\"5\", \" \", \"R\"),\n",
    "                       (\"5\",\" \"):(\"f\", \" \", \"N\"),\n",
    "\n",
    "                       }\n",
    "final_states = {\"f\"}\n",
    "\n",
    "t = TuringMachine(\n",
    "                  initial_state = \"0\",\n",
    "                  final_states = final_states,\n",
    "                  transition_function=transition_function, \n",
    "                  max_steps = 100000)"
   ]
  },
  {
   "cell_type": "code",
   "execution_count": 30,
   "id": "78ec97dd",
   "metadata": {},
   "outputs": [],
   "source": [
    "#t.debug(\"11 11111\")"
   ]
  },
  {
   "cell_type": "code",
   "execution_count": 7,
   "id": "5b53ec2f",
   "metadata": {},
   "outputs": [],
   "source": [
    "transition_function = {\n",
    "                       (\"0\",\"1\"):(\"0\", \"1\", \"R\"),\n",
    "                       (\"0\",\" \"):(\"1\",\" \", \"R\"),\n",
    "                       \n",
    "                       (\"1\",\"1\"):(\"1\", \"1\", \"R\"),\n",
    "                       (\"1\",\" \"):(\"2\",\" \", \"L\"),\n",
    "                       \n",
    "                       (\"2\",\"1\"):(\"3\", \" \", \"L\"),\n",
    "                       (\"2\",\" \"):(\"f\",\" \", \"N\"),\n",
    "    \n",
    "                        (\"3\",\"1\"):(\"3\",\"1\", \"L\"),\n",
    "                        (\"3\",\" \"):(\"4\",\" \", \"L\"),\n",
    "    \n",
    "    \n",
    "                     (\"4\",\"1\"):(\"4\",\"1\", \"L\"),\n",
    "                        (\"4\",\" \"):(\"5\",\" \", \"R\"),\n",
    "    \n",
    "                     (\"5\",\"1\"):(\"0\",\" \", \"R\"),\n",
    "                        (\"5\",\" \"):(\"f\",\" \", \"N\"),\n",
    "\n",
    "\n",
    "                       }\n",
    "final_states = {\"f\"}\n",
    "\n",
    "t = TuringMachine(\n",
    "                  initial_state = \"0\",\n",
    "                  final_states = final_states,\n",
    "                  transition_function=transition_function, \n",
    "                  max_steps = 100000)"
   ]
  },
  {
   "cell_type": "code",
   "execution_count": 39,
   "id": "f1c4c81f",
   "metadata": {},
   "outputs": [],
   "source": [
    "\n",
    "#from_unary(t.debug(f\"{to_unary(7)} {to_unary(3)}\"))"
   ]
  },
  {
   "cell_type": "code",
   "execution_count": 37,
   "id": "caf17a25",
   "metadata": {},
   "outputs": [],
   "source": [
    "transition_function = {\n",
    "                       (\"0\",\"1\"):(\"1\", \" \", \"R\"),\n",
    "                       (\"0\",\" \"):(\"12\",\" \", \"L\"),\n",
    "                       \n",
    "                       (\"1\",\"1\"):(\"1\", \"1\", \"R\"),\n",
    "                       (\"1\",\" \"):(\"2\",\" \", \"R\"),\n",
    "                       \n",
    "                       (\"2\",\"1\"):(\"4\", \"Y\", \"R\"),\n",
    "                       (\"2\",\"=\"):(\"3\",\"=\", \"L\"),\n",
    "    \n",
    "                        (\"3\",\"Y\"):(\"3\",\"1\", \"L\"),\n",
    "                        (\"3\",\" \"):(\"9\",\" \", \"L\"),\n",
    "    \n",
    "    \n",
    "                     (\"4\",\"1\"):(\"4\",\"1\", \"R\"),\n",
    "                        (\"4\",\"=\"):(\"5\",\"=\", \"R\"),\n",
    "    \n",
    "                     (\"5\",\"1\"):(\"5\",\"1\", \"R\"),\n",
    "                        (\"5\",\" \"):(\"6\",\"1\", \"L\"),\n",
    "                    \n",
    "                    (\"6\",\"1\"):(\"6\",\"1\", \"L\"),\n",
    "                        (\"6\",\"=\"):(\"7\",\"=\", \"L\"),\n",
    "                        \n",
    "                        (\"7\",\"1\"):(\"7\",\"1\", \"L\"),\n",
    "                        (\"7\",\"Y\"):(\"8\",\"Y\", \"R\"),\n",
    "    \n",
    "                       (\"8\",\"=\"):(\"3\",\"=\", \"L\"),\n",
    "                       (\"8\",\"1\"):(\"4\",\"Y\", \"R\"),\n",
    "    \n",
    "                    (\"9\",\"1\"):(\"9\",\"1\", \"L\"),\n",
    "                        (\"9\",\" \"):(\"0\",\" \", \"R\"),\n",
    "    \n",
    " \n",
    "                    (\"11\",\" \"):(\"13\",\" \", \"R\"),\n",
    "                    (\"11\",\"Y\"):(\"13\",\" \", \"R\"),\n",
    "                    (\"11\",\"1\"):(\"13\",\" \", \"R\"),\n",
    "                        \n",
    "    \n",
    "                    (\"12\",\" \"):(\"12\",\"1\", \"L\"),\n",
    "                        (\"12\",\" \"):(\"11\",\" \", \"R\"),\n",
    "    \n",
    "                    (\"13\",\" \"):(\"13\",\" \", \"R\"),\n",
    "                    (\"13\",\"1\"):(\"13\",\" \", \"R\"),\n",
    "                    (\"13\",\"=\"):(\"f\",\" \", \"R\"),\n",
    "                       \n",
    "\n",
    "\n",
    "                       }\n",
    "final_states = {\"f\"}\n",
    "\n",
    "t = TuringMachine(\n",
    "                  initial_state = \"0\",\n",
    "                  final_states = final_states,\n",
    "                  transition_function=transition_function, \n",
    "                  max_steps = 1000000)"
   ]
  },
  {
   "cell_type": "code",
   "execution_count": 38,
   "id": "ffae8d7f",
   "metadata": {},
   "outputs": [
    {
     "data": {
      "text/plain": [
       "40"
      ]
     },
     "execution_count": 38,
     "metadata": {},
     "output_type": "execute_result"
    }
   ],
   "source": [
    "\n",
    "#from_unary(t.debug(f\"{to_unary(8)} {to_unary(5)}=\"))\n",
    "\n",
    "from_unary(t.process(f\"{to_unary(8)} {to_unary(5)}=\"))"
   ]
  },
  {
   "cell_type": "code",
   "execution_count": 11,
   "id": "75dfb015",
   "metadata": {},
   "outputs": [],
   "source": [
    "transition_function = {\n",
    "                       (\"0\",\"1\"):(\"0\", \"1\", \"R\"),\n",
    "                       (\"0\",\" \"):(\"0\",\" \", \"R\"),\n",
    "                        (\"0\",\"=\"):(\"6\",\"=\", \"R\"),\n",
    "    \n",
    "                        (\"6\",\"1\"):(\"6\",\"1\", \"R\"),\n",
    "                        (\"6\",\" \"):(\"7\",\"1\", \"L\"), #Acumule\n",
    "    \n",
    "                        (\"7\",\"1\"):(\"7\",\"1\", \"L\"),\n",
    "                        (\"7\",\"=\"):(\"1\",\"=\", \"L\"),\n",
    "                       \n",
    "                       (\"1\",\"1\"):(\"1\", \"Y\", \"L\"),\n",
    "                       (\"1\",\" \"):(\"2\",\" \", \"R\"),\n",
    "                       \n",
    "                       (\"2\",\"Y\"):(\"3\", \"1\", \"L\"),\n",
    "                        (\"2\",\" \"):(\"2\", \" \", \"R\"),\n",
    "                        (\"2\",\"1\"):(\"2\", \"1\", \"R\"),\n",
    "                       (\"2\",\"=\"):(\"6\",\"=\", \"R\"),\n",
    "    \n",
    "                        (\"3\",\"1\"):(\"3\",\"1\", \"L\"),\n",
    "                        (\"3\",\" \"):(\"4\",\" \", \"L\"),\n",
    "    \n",
    "                        (\"4\",\"1\"):(\"4\",\"1\", \"L\"),\n",
    "                        (\"4\",\" \"):(\"5\",\" \", \"R\"),\n",
    "                \n",
    "                        (\"5\",\"1\"):(\"2\",\" \", \"R\"),\n",
    "                        (\"5\",\" \"):(\"b\",\" \", \"R\"),\n",
    "    \n",
    "                        (\"b\",\"1\"):(\"b\",\" \", \"R\"),\n",
    "                        (\"b\",\" \"):(\"b\",\" \", \"R\"),\n",
    "                        (\"b\",\"Y\"):(\"b\",\" \", \"R\"),\n",
    "                        (\"b\",\"=\"):(\"b1\",\" \", \"R\"),\n",
    "    \n",
    "                        (\"b1\",\"1\"):(\"f\",\" \", \"R\"),\n",
    "                        (\"b1\",\" \"):(\"f\",\" \", \"R\"),\n",
    "    \n",
    "                    \n",
    "    \n",
    "\n",
    "\n",
    "                       }\n",
    "final_states = {\"f\"}\n",
    "\n",
    "t = TuringMachine(\n",
    "                  initial_state = \"0\",\n",
    "                  final_states = final_states,\n",
    "                  transition_function=transition_function, \n",
    "                  max_steps = 100000)"
   ]
  },
  {
   "cell_type": "code",
   "execution_count": 27,
   "id": "ef4aaad7",
   "metadata": {},
   "outputs": [],
   "source": [
    "#from_unary(t.debug(f\"{to_unary(13)} {to_unary(5)}=\"))\n"
   ]
  },
  {
   "cell_type": "code",
   "execution_count": 13,
   "id": "69df2906",
   "metadata": {},
   "outputs": [],
   "source": [
    "# starts accumulating after the =\n",
    "# changes every 1 from the divisor to y's\n",
    "# starts changing the y's to 1's, for each such operation deletes a 1 from the dividend\n",
    "# goes back to delete all the y's\n",
    "# after all y's are deleted puts 1 to the accumulator and repeats\n",
    "\n",
    "\n",
    "transition_function = {\n",
    "                       (\"0\",\"1\"):(\"0\", \"1\", \"R\"),\n",
    "                       (\"0\",\" \"):(\"0\",\" \", \"R\"),\n",
    "                        (\"0\",\"=\"):(\"6\",\"=\", \"R\"),\n",
    "    \n",
    "                        (\"6\",\"1\"):(\"6\",\"1\", \"R\"),\n",
    "                        (\"6\",\" \"):(\"7\",\"1\", \"L\"), #Acumule\n",
    "    \n",
    "                        (\"7\",\"1\"):(\"7\",\"1\", \"L\"),\n",
    "                        (\"7\",\"=\"):(\"1\",\"=\", \"L\"),\n",
    "                       \n",
    "                       (\"1\",\"1\"):(\"1\", \"Y\", \"L\"),\n",
    "                       (\"1\",\" \"):(\"2\",\" \", \"R\"),\n",
    "                       \n",
    "                       (\"2\",\"Y\"):(\"3\", \"1\", \"L\"),\n",
    "                        (\"2\",\" \"):(\"2\", \" \", \"R\"),\n",
    "                        (\"2\",\"1\"):(\"2\", \"1\", \"R\"),\n",
    "                       (\"2\",\"=\"):(\"6\",\"=\", \"R\"),\n",
    "    \n",
    "                        (\"3\",\"1\"):(\"3\",\"1\", \"L\"),\n",
    "                        (\"3\",\" \"):(\"4\",\" \", \"L\"),\n",
    "    \n",
    "                        (\"4\",\"1\"):(\"4\",\"1\", \"L\"),\n",
    "                        (\"4\",\" \"):(\"5\",\" \", \"R\"),\n",
    "                \n",
    "                        (\"5\",\"1\"):(\"2\",\" \", \"R\"),\n",
    "                        (\"5\",\" \"):(\"b\",\" \", \"R\"),\n",
    "    \n",
    "                        (\"b\",\"1\"):(\"b1\",\" \", \"R\"),\n",
    "                        (\"b\",\" \"):(\"f\",\" \", \"R\"),\n",
    "    \n",
    "                        (\"b1\",\"1\"):(\"b1\",\"1\", \"R\"),\n",
    "                         (\"b1\",\"Y\"):(\"b1\",\" \", \"R\"),\n",
    "                        (\"b1\",\" \"):(\"b1\",\" \", \"R\"),\n",
    "                        (\"b1\",\"=\"):(\"b2\",\"=\", \"R\"),\n",
    "                        (\"b2\",\"1\"):(\"f\",\" \", \"N\"),\n",
    "    \n",
    "                        \n",
    "\n",
    "                    \n",
    "    \n",
    "\n",
    "\n",
    "                       }\n",
    "final_states = {\"f\"}\n",
    "\n",
    "t = TuringMachine(\n",
    "                  initial_state = \"0\",\n",
    "                  final_states = final_states,\n",
    "                  transition_function=transition_function, \n",
    "                  max_steps = 100000)"
   ]
  },
  {
   "cell_type": "code",
   "execution_count": 35,
   "id": "de935009",
   "metadata": {},
   "outputs": [
    {
     "data": {
      "text/plain": [
       "{'div': 3.5, 'int_div': 3, 'module': 3}"
      ]
     },
     "execution_count": 35,
     "metadata": {},
     "output_type": "execute_result"
    }
   ],
   "source": [
    "d = 21\n",
    "n = 6\n",
    "#from_unary_div(t.debug(f\"{to_unary(d)} {to_unary(n)}=\"), n)\n",
    "from_unary_div(t.process(f\"{to_unary(d)} {to_unary(n)}=\"), n)"
   ]
  },
  {
   "cell_type": "code",
   "execution_count": 34,
   "id": "ba30dbd0",
   "metadata": {},
   "outputs": [
    {
     "data": {
      "text/plain": [
       "{'div': 0.5, 'int_div': 0, 'module': 5}"
      ]
     },
     "execution_count": 34,
     "metadata": {},
     "output_type": "execute_result"
    }
   ],
   "source": [
    "d = 5\n",
    "n = 10\n",
    "#from_unary_div(t.debug(f\"{to_unary(d)} {to_unary(n)}=\"), n)\n",
    "from_unary_div(t.process(f\"{to_unary(d)} {to_unary(n)}=\"), n)"
   ]
  },
  {
   "cell_type": "code",
   "execution_count": 32,
   "id": "58ebaa5e",
   "metadata": {},
   "outputs": [
    {
     "data": {
      "text/plain": [
       "{'div': 222.5, 'int_div': 222, 'module': 5}"
      ]
     },
     "execution_count": 32,
     "metadata": {},
     "output_type": "execute_result"
    }
   ],
   "source": [
    "\n",
    "#from_unary_div(t.debug(f\"{to_unary(5)} {to_unary(0)}=\"), 10)\n",
    "from_unary_div(t.process(f\"{to_unary(5)} {to_unary(0)}=\"), 10)"
   ]
  },
  {
   "cell_type": "code",
   "execution_count": 21,
   "id": "550b6a09",
   "metadata": {},
   "outputs": [],
   "source": [
    "\n",
    "#https://stackoverflow.com/questions/59045832/turing-machine-for-addition-and-comparison-of-binary-numbers\n",
    "#https://www.tutorialspoint.com/design-turing-machine-for-multiplication#"
   ]
  },
  {
   "cell_type": "code",
   "execution_count": null,
   "id": "f89338d1",
   "metadata": {},
   "outputs": [],
   "source": []
  }
 ],
 "metadata": {
  "kernelspec": {
   "display_name": "Python 3",
   "language": "python",
   "name": "python3"
  },
  "language_info": {
   "codemirror_mode": {
    "name": "ipython",
    "version": 3
   },
   "file_extension": ".py",
   "mimetype": "text/x-python",
   "name": "python",
   "nbconvert_exporter": "python",
   "pygments_lexer": "ipython3",
   "version": "3.9.2"
  }
 },
 "nbformat": 4,
 "nbformat_minor": 5
}
